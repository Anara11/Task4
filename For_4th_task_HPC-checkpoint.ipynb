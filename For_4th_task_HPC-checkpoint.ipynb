{
 "cells": [
  {
   "cell_type": "code",
   "execution_count": 1,
   "id": "877d7c7e",
   "metadata": {},
   "outputs": [],
   "source": [
    "import pandas as pd\n",
    "import numpy as np\n",
    "\n",
    "import matplotlib.pyplot as plt\n",
    "import seaborn as sns"
   ]
  },
  {
   "cell_type": "code",
   "execution_count": 2,
   "id": "74914cc5",
   "metadata": {},
   "outputs": [],
   "source": [
    "df = pd.DataFrame(columns=['thread_num','Max Execution Time'])"
   ]
  },
  {
   "cell_type": "code",
   "execution_count": 3,
   "id": "6c83615f",
   "metadata": {},
   "outputs": [],
   "source": [
    "df.loc[0] = [1,1.04055]"
   ]
  },
  {
   "cell_type": "code",
   "execution_count": 4,
   "id": "13a722b1",
   "metadata": {},
   "outputs": [],
   "source": [
    "df.loc[1] = [2,0.52922]"
   ]
  },
  {
   "cell_type": "code",
   "execution_count": 5,
   "id": "33531800",
   "metadata": {},
   "outputs": [],
   "source": [
    "df.loc[2] = [4,0.43097]"
   ]
  },
  {
   "cell_type": "code",
   "execution_count": 6,
   "id": "d40454c2",
   "metadata": {},
   "outputs": [],
   "source": [
    "df.loc[3] = [8,0.32169]"
   ]
  },
  {
   "cell_type": "code",
   "execution_count": 7,
   "id": "5997fbac",
   "metadata": {},
   "outputs": [],
   "source": [
    "df.loc[4] = [16,0.24825]"
   ]
  },
  {
   "cell_type": "code",
   "execution_count": 8,
   "id": "40d97c22",
   "metadata": {},
   "outputs": [
    {
     "data": {
      "text/html": [
       "<div>\n",
       "<style scoped>\n",
       "    .dataframe tbody tr th:only-of-type {\n",
       "        vertical-align: middle;\n",
       "    }\n",
       "\n",
       "    .dataframe tbody tr th {\n",
       "        vertical-align: top;\n",
       "    }\n",
       "\n",
       "    .dataframe thead th {\n",
       "        text-align: right;\n",
       "    }\n",
       "</style>\n",
       "<table border=\"1\" class=\"dataframe\">\n",
       "  <thead>\n",
       "    <tr style=\"text-align: right;\">\n",
       "      <th></th>\n",
       "      <th>thread_num</th>\n",
       "      <th>Max Execution Time</th>\n",
       "    </tr>\n",
       "  </thead>\n",
       "  <tbody>\n",
       "    <tr>\n",
       "      <th>0</th>\n",
       "      <td>1.0</td>\n",
       "      <td>1.04055</td>\n",
       "    </tr>\n",
       "    <tr>\n",
       "      <th>1</th>\n",
       "      <td>2.0</td>\n",
       "      <td>0.52922</td>\n",
       "    </tr>\n",
       "    <tr>\n",
       "      <th>2</th>\n",
       "      <td>4.0</td>\n",
       "      <td>0.43097</td>\n",
       "    </tr>\n",
       "    <tr>\n",
       "      <th>3</th>\n",
       "      <td>8.0</td>\n",
       "      <td>0.32169</td>\n",
       "    </tr>\n",
       "    <tr>\n",
       "      <th>4</th>\n",
       "      <td>16.0</td>\n",
       "      <td>0.24825</td>\n",
       "    </tr>\n",
       "  </tbody>\n",
       "</table>\n",
       "</div>"
      ],
      "text/plain": [
       "   thread_num  Max Execution Time\n",
       "0         1.0             1.04055\n",
       "1         2.0             0.52922\n",
       "2         4.0             0.43097\n",
       "3         8.0             0.32169\n",
       "4        16.0             0.24825"
      ]
     },
     "execution_count": 8,
     "metadata": {},
     "output_type": "execute_result"
    }
   ],
   "source": [
    "df"
   ]
  },
  {
   "cell_type": "code",
   "execution_count": 10,
   "id": "1a3623d9",
   "metadata": {},
   "outputs": [
    {
     "data": {
      "text/html": [
       "<div>\n",
       "<style scoped>\n",
       "    .dataframe tbody tr th:only-of-type {\n",
       "        vertical-align: middle;\n",
       "    }\n",
       "\n",
       "    .dataframe tbody tr th {\n",
       "        vertical-align: top;\n",
       "    }\n",
       "\n",
       "    .dataframe thead th {\n",
       "        text-align: right;\n",
       "    }\n",
       "</style>\n",
       "<table border=\"1\" class=\"dataframe\">\n",
       "  <thead>\n",
       "    <tr style=\"text-align: right;\">\n",
       "      <th></th>\n",
       "      <th>Time of execution</th>\n",
       "      <th>Processes</th>\n",
       "      <th>Speedup</th>\n",
       "      <th>Efficiency</th>\n",
       "    </tr>\n",
       "  </thead>\n",
       "  <tbody>\n",
       "    <tr>\n",
       "      <th>0</th>\n",
       "      <td>1.04055</td>\n",
       "      <td>1.0</td>\n",
       "      <td>1.000000</td>\n",
       "      <td>1.000000</td>\n",
       "    </tr>\n",
       "    <tr>\n",
       "      <th>1</th>\n",
       "      <td>0.52922</td>\n",
       "      <td>2.0</td>\n",
       "      <td>1.966196</td>\n",
       "      <td>0.983098</td>\n",
       "    </tr>\n",
       "    <tr>\n",
       "      <th>2</th>\n",
       "      <td>0.43097</td>\n",
       "      <td>4.0</td>\n",
       "      <td>2.414437</td>\n",
       "      <td>0.603609</td>\n",
       "    </tr>\n",
       "    <tr>\n",
       "      <th>3</th>\n",
       "      <td>0.32169</td>\n",
       "      <td>8.0</td>\n",
       "      <td>3.234636</td>\n",
       "      <td>0.404329</td>\n",
       "    </tr>\n",
       "    <tr>\n",
       "      <th>4</th>\n",
       "      <td>0.24825</td>\n",
       "      <td>16.0</td>\n",
       "      <td>4.191541</td>\n",
       "      <td>0.261971</td>\n",
       "    </tr>\n",
       "  </tbody>\n",
       "</table>\n",
       "</div>"
      ],
      "text/plain": [
       "   Time of execution  Processes   Speedup  Efficiency\n",
       "0            1.04055        1.0  1.000000    1.000000\n",
       "1            0.52922        2.0  1.966196    0.983098\n",
       "2            0.43097        4.0  2.414437    0.603609\n",
       "3            0.32169        8.0  3.234636    0.404329\n",
       "4            0.24825       16.0  4.191541    0.261971"
      ]
     },
     "execution_count": 10,
     "metadata": {},
     "output_type": "execute_result"
    }
   ],
   "source": [
    "dynamic = pd.DataFrame(columns=['Time of execution','Processes','Speedup','Efficiency'])\n",
    "\n",
    "for i in range(0,4+1):\n",
    "    num_thread = df['thread_num'][i]\n",
    "    time = df['Max Execution Time'][i]\n",
    "    t1 = df['Max Execution Time'][0]\n",
    "    speedup = t1/time\n",
    "    efficiency = speedup/num_thread\n",
    "    threads = num_thread\n",
    "    dynamic.loc[i-1] = [time,threads,speedup,efficiency]\n",
    "dynamic= dynamic.reset_index().drop('index',axis=1)\n",
    "dynamic"
   ]
  },
  {
   "cell_type": "code",
   "execution_count": null,
   "id": "fb7a85f2",
   "metadata": {},
   "outputs": [],
   "source": []
  }
 ],
 "metadata": {
  "kernelspec": {
   "display_name": "Python 3",
   "language": "python",
   "name": "python3"
  },
  "language_info": {
   "codemirror_mode": {
    "name": "ipython",
    "version": 3
   },
   "file_extension": ".py",
   "mimetype": "text/x-python",
   "name": "python",
   "nbconvert_exporter": "python",
   "pygments_lexer": "ipython3",
   "version": "3.8.8"
  }
 },
 "nbformat": 4,
 "nbformat_minor": 5
}
